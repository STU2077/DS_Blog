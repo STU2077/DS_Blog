{
 "cells": [
  {
   "cell_type": "code",
   "execution_count": 20,
   "metadata": {},
   "outputs": [],
   "source": [
    "# Import packages\n",
    "import pandas as pd\n",
    "import numpy as np\n",
    "import matplotlib.pyplot as plt\n",
    "from sklearn import linear_model\n",
    "from sklearn.metrics import roc_auc_score\n",
    "from statistics import median \n",
    "from sklearn.model_selection import train_test_split"
   ]
  },
  {
   "cell_type": "code",
   "execution_count": 2,
   "metadata": {},
   "outputs": [],
   "source": [
    "# Import datasource\n",
    "listings = pd.read_csv('C:/Users/ilove/Documents/listings_Nov.csv')\n",
    "calendar = pd.read_csv('C:/Users/ilove/Documents/calendar_Nov.csv')\n",
    "listings_dec = pd.read_csv('C:/Users/ilove/Documents/listings_Dec.csv')\n",
    "calendar_dec = pd.read_csv('C:/Users/ilove/Documents/calendar_Dec.csv')"
   ]
  },
  {
   "cell_type": "code",
   "execution_count": 3,
   "metadata": {},
   "outputs": [
    {
     "name": "stdout",
     "output_type": "stream",
     "text": [
      "<class 'pandas.core.frame.DataFrame'>\n",
      "RangeIndex: 19863 entries, 0 to 19862\n",
      "Data columns (total 74 columns):\n",
      " #   Column                                        Non-Null Count  Dtype  \n",
      "---  ------                                        --------------  -----  \n",
      " 0   id                                            19863 non-null  int64  \n",
      " 1   listing_url                                   19863 non-null  object \n",
      " 2   scrape_id                                     19863 non-null  int64  \n",
      " 3   last_scraped                                  19863 non-null  object \n",
      " 4   name                                          19861 non-null  object \n",
      " 5   description                                   19058 non-null  object \n",
      " 6   neighborhood_overview                         12674 non-null  object \n",
      " 7   picture_url                                   19862 non-null  object \n",
      " 8   host_id                                       19863 non-null  int64  \n",
      " 9   host_url                                      19863 non-null  object \n",
      " 10  host_name                                     19860 non-null  object \n",
      " 11  host_since                                    19860 non-null  object \n",
      " 12  host_location                                 19826 non-null  object \n",
      " 13  host_about                                    11802 non-null  object \n",
      " 14  host_response_time                            9139 non-null   object \n",
      " 15  host_response_rate                            9139 non-null   object \n",
      " 16  host_acceptance_rate                          13882 non-null  object \n",
      " 17  host_is_superhost                             19860 non-null  object \n",
      " 18  host_thumbnail_url                            19860 non-null  object \n",
      " 19  host_picture_url                              19860 non-null  object \n",
      " 20  host_neighbourhood                            11404 non-null  object \n",
      " 21  host_listings_count                           19860 non-null  float64\n",
      " 22  host_total_listings_count                     19860 non-null  float64\n",
      " 23  host_verifications                            19863 non-null  object \n",
      " 24  host_has_profile_pic                          19860 non-null  object \n",
      " 25  host_identity_verified                        19860 non-null  object \n",
      " 26  neighbourhood                                 12676 non-null  object \n",
      " 27  neighbourhood_cleansed                        19863 non-null  object \n",
      " 28  neighbourhood_group_cleansed                  0 non-null      float64\n",
      " 29  latitude                                      19863 non-null  float64\n",
      " 30  longitude                                     19863 non-null  float64\n",
      " 31  property_type                                 19863 non-null  object \n",
      " 32  room_type                                     19863 non-null  object \n",
      " 33  accommodates                                  19863 non-null  int64  \n",
      " 34  bathrooms                                     0 non-null      float64\n",
      " 35  bathrooms_text                                19839 non-null  object \n",
      " 36  bedrooms                                      19020 non-null  float64\n",
      " 37  beds                                          19645 non-null  float64\n",
      " 38  amenities                                     19863 non-null  object \n",
      " 39  price                                         19863 non-null  object \n",
      " 40  minimum_nights                                19863 non-null  int64  \n",
      " 41  maximum_nights                                19863 non-null  int64  \n",
      " 42  minimum_minimum_nights                        19863 non-null  int64  \n",
      " 43  maximum_minimum_nights                        19863 non-null  int64  \n",
      " 44  minimum_maximum_nights                        19863 non-null  int64  \n",
      " 45  maximum_maximum_nights                        19863 non-null  int64  \n",
      " 46  minimum_nights_avg_ntm                        19863 non-null  float64\n",
      " 47  maximum_nights_avg_ntm                        19863 non-null  float64\n",
      " 48  calendar_updated                              0 non-null      float64\n",
      " 49  has_availability                              19863 non-null  object \n",
      " 50  availability_30                               19863 non-null  int64  \n",
      " 51  availability_60                               19863 non-null  int64  \n",
      " 52  availability_90                               19863 non-null  int64  \n",
      " 53  availability_365                              19863 non-null  int64  \n",
      " 54  calendar_last_scraped                         19863 non-null  object \n",
      " 55  number_of_reviews                             19863 non-null  int64  \n",
      " 56  number_of_reviews_ltm                         19863 non-null  int64  \n",
      " 57  number_of_reviews_l30d                        19863 non-null  int64  \n",
      " 58  first_review                                  15329 non-null  object \n",
      " 59  last_review                                   15329 non-null  object \n",
      " 60  review_scores_rating                          14896 non-null  float64\n",
      " 61  review_scores_accuracy                        14875 non-null  float64\n",
      " 62  review_scores_cleanliness                     14880 non-null  float64\n",
      " 63  review_scores_checkin                         14871 non-null  float64\n",
      " 64  review_scores_communication                   14878 non-null  float64\n",
      " 65  review_scores_location                        14872 non-null  float64\n",
      " 66  review_scores_value                           14870 non-null  float64\n",
      " 67  license                                       0 non-null      float64\n",
      " 68  instant_bookable                              19863 non-null  object \n",
      " 69  calculated_host_listings_count                19863 non-null  int64  \n",
      " 70  calculated_host_listings_count_entire_homes   19863 non-null  int64  \n",
      " 71  calculated_host_listings_count_private_rooms  19863 non-null  int64  \n",
      " 72  calculated_host_listings_count_shared_rooms   19863 non-null  int64  \n",
      " 73  reviews_per_month                             15329 non-null  float64\n",
      "dtypes: float64(20), int64(21), object(33)\n",
      "memory usage: 11.2+ MB\n"
     ]
    }
   ],
   "source": [
    "# Explore listings data\n",
    "listings.info()"
   ]
  },
  {
   "cell_type": "code",
   "execution_count": 3,
   "metadata": {},
   "outputs": [],
   "source": [
    "# Remove columns with null value only\n",
    "listings.columns[listings.isnull().all()]\n",
    "listings_drop_null = listings.dropna(how='all')"
   ]
  },
  {
   "cell_type": "code",
   "execution_count": 5,
   "metadata": {},
   "outputs": [
    {
     "data": {
      "text/plain": [
       "<AxesSubplot:title={'center':'Total number of hosts from 2010 to 2020'}, xlabel='host_since_year'>"
      ]
     },
     "execution_count": 5,
     "metadata": {},
     "output_type": "execute_result"
    },
    {
     "data": {
      "image/png": "[encoded data removed]",
      "text/plain": [
       "<Figure size 432x288 with 1 Axes>"
      ]
     },
     "metadata": {
      "needs_background": "light"
     },
     "output_type": "display_data"
    }
   ],
   "source": [
    "# Plot number of registed hosts per year \n",
    "listings['host_since_year'] = pd.DatetimeIndex(listings['host_since']).year\n",
    "listings[['host_since_year','host_id']].groupby(['host_since_year']).host_id.nunique().plot(title = \"Total number of hosts from 2010 to 2020\")"
   ]
  },
  {
   "cell_type": "code",
   "execution_count": 6,
   "metadata": {
    "scrolled": true
   },
   "outputs": [
    {
     "data": {
      "text/plain": [
       "<AxesSubplot:title={'center':'Rental types on Airbnb in Melbourne'}>"
      ]
     },
     "execution_count": 6,
     "metadata": {},
     "output_type": "execute_result"
    },
    {
     "data": {
      "image/png": "[encoded data removed]",
      "text/plain": [
       "<Figure size 432x288 with 1 Axes>"
      ]
     },
     "metadata": {
      "needs_background": "light"
     },
     "output_type": "display_data"
    }
   ],
   "source": [
    "# Plot total number of property by rental mode \n",
    "host = listings[['host_id','calculated_host_listings_count_entire_homes','calculated_host_listings_count_private_rooms','calculated_host_listings_count_shared_rooms']].groupby(['host_id']).max()\n",
    "host = host.rename(columns = {'calculated_host_listings_count_entire_homes':'entire_homes','calculated_host_listings_count_private_rooms':'private_rooms','calculated_host_listings_count_shared_rooms':'shared_rooms'})\n",
    "host[['entire_homes','private_rooms','shared_rooms']].sum().plot(kind = 'bar', rot=0, title = \"Rental types on Airbnb in Melbourne\",table=True)\n"
   ]
  },
  {
   "cell_type": "code",
   "execution_count": 7,
   "metadata": {},
   "outputs": [
    {
     "name": "stdout",
     "output_type": "stream",
     "text": [
      "   listing_id        date available    price adjusted_price  minimum_nights  \\\n",
      "0      466732  2020-11-05         t  $337.00        $337.00               3   \n",
      "1      466732  2020-11-06         f  $337.00        $337.00               3   \n",
      "2      466732  2020-11-07         f  $337.00        $337.00               3   \n",
      "3      466732  2020-11-08         t  $337.00        $337.00               3   \n",
      "4      466732  2020-11-09         t  $337.00        $337.00               3   \n",
      "\n",
      "   maximum_nights  \n",
      "0            1125  \n",
      "1            1125  \n",
      "2              28  \n",
      "3              28  \n",
      "4              28  \n",
      "<class 'pandas.core.frame.DataFrame'>\n",
      "RangeIndex: 7249995 entries, 0 to 7249994\n",
      "Data columns (total 7 columns):\n",
      " #   Column          Dtype \n",
      "---  ------          ----- \n",
      " 0   listing_id      int64 \n",
      " 1   date            object\n",
      " 2   available       object\n",
      " 3   price           object\n",
      " 4   adjusted_price  object\n",
      " 5   minimum_nights  int64 \n",
      " 6   maximum_nights  int64 \n",
      "dtypes: int64(3), object(4)\n",
      "memory usage: 387.2+ MB\n",
      "None\n",
      "2021-11-04 2020-11-05\n"
     ]
    }
   ],
   "source": [
    "# Explore calendar data\n",
    "print(calendar.head())\n",
    "print(calendar.info())\n",
    "Max_date = calendar.date.max()\n",
    "Min_date = calendar.date.min()\n",
    "print(Max_date,Min_date)"
   ]
  },
  {
   "cell_type": "code",
   "execution_count": 4,
   "metadata": {},
   "outputs": [
    {
     "name": "stderr",
     "output_type": "stream",
     "text": [
      "C:\\Users\\ilove\\anaconda3\\lib\\site-packages\\pandas\\core\\indexing.py:1596: SettingWithCopyWarning: \n",
      "A value is trying to be set on a copy of a slice from a DataFrame.\n",
      "Try using .loc[row_indexer,col_indexer] = value instead\n",
      "\n",
      "See the caveats in the documentation: https://pandas.pydata.org/pandas-docs/stable/user_guide/indexing.html#returning-a-view-versus-a-copy\n",
      "  self.obj[key] = _infer_fill_value(value)\n",
      "C:\\Users\\ilove\\anaconda3\\lib\\site-packages\\pandas\\core\\indexing.py:1745: SettingWithCopyWarning: \n",
      "A value is trying to be set on a copy of a slice from a DataFrame.\n",
      "Try using .loc[row_indexer,col_indexer] = value instead\n",
      "\n",
      "See the caveats in the documentation: https://pandas.pydata.org/pandas-docs/stable/user_guide/indexing.html#returning-a-view-versus-a-copy\n",
      "  isetter(ilocs[0], value)\n"
     ]
    }
   ],
   "source": [
    "# examine where the null values are located\n",
    "calendar.isnull().sum()\n",
    "# drop null values in calendar dataset because price and adjusted price are the only two columns with null values, and the \n",
    "# adjusted price is null when price is null. Also, it doesn't make sense to rent out properties for free.\n",
    "calendar_clean = calendar.dropna()\n",
    "# create a new column, \"yr-mth\" \n",
    "calendar_clean.loc[:,'yr-mth'] = pd.to_datetime(calendar_clean['date']).dt.strftime('%Y-%m')"
   ]
  },
  {
   "cell_type": "code",
   "execution_count": 5,
   "metadata": {},
   "outputs": [
    {
     "data": {
      "text/plain": [
       "       yr-mth \n",
       "count  2020-11    19863\n",
       "       2020-12    19863\n",
       "       2021-01    19863\n",
       "       2021-02    19863\n",
       "       2021-03    19863\n",
       "       2021-04    19863\n",
       "       2021-05    19863\n",
       "       2021-06    19862\n",
       "       2021-07    19862\n",
       "       2021-08    19862\n",
       "       2021-09    19862\n",
       "       2021-10    19862\n",
       "       2021-11    19862\n",
       "dtype: int64"
      ]
     },
     "execution_count": 5,
     "metadata": {},
     "output_type": "execute_result"
    }
   ],
   "source": [
    "# Show the number of unique listings by year month \n",
    "listing_by_yearmonth = calendar_clean[['listing_id','yr-mth']].groupby('yr-mth').nunique().rename(columns ={'listing_id':'count'})\n",
    "listing_by_yearmonth.unstack('yr-mth')"
   ]
  },
  {
   "cell_type": "code",
   "execution_count": 6,
   "metadata": {},
   "outputs": [],
   "source": [
    "# Transfer the data type of price from object to numeric\n",
    "calendar_clean.loc[:,'price'] = [x.strip('$') for x in calendar_clean['price']]\n",
    "calendar_clean.loc[:,'adjusted_price'] = [x.strip('$') for x in calendar_clean['adjusted_price']]                                              \n",
    "calendar_clean.loc[:,'price'] = calendar_clean['price'].str.replace(',','')\n",
    "calendar_clean.loc[:,'adjusted_price'] = calendar_clean['adjusted_price'].str.replace(',','')                                              \n",
    "calendar_clean.loc[:,'price'] = pd.to_numeric(calendar_clean['price'])\n",
    "calendar_clean.loc[:,'adjusted_price'] = pd.to_numeric(calendar_clean['adjusted_price'])"
   ]
  },
  {
   "cell_type": "code",
   "execution_count": 7,
   "metadata": {},
   "outputs": [],
   "source": [
    "# Create a new column to show the difference between adjusted price and price\n",
    "calendar_clean.loc[:,'price_diff'] = calendar_clean['adjusted_price'] - calendar_clean['price']"
   ]
  },
  {
   "cell_type": "code",
   "execution_count": 8,
   "metadata": {},
   "outputs": [],
   "source": [
    "# Subset calendar_clean\n",
    "sub_calendar_clean = calendar_clean[['listing_id','yr-mth','price','price_diff','adjusted_price','available','date']]"
   ]
  },
  {
   "cell_type": "code",
   "execution_count": 9,
   "metadata": {
    "scrolled": true
   },
   "outputs": [],
   "source": [
    "# Merge listings to sub_calendar_clean\n",
    "listings_date = pd.merge(listings_drop_null, sub_calendar_clean, left_on=['id'],right_on=['listing_id'])"
   ]
  },
  {
   "cell_type": "code",
   "execution_count": 14,
   "metadata": {},
   "outputs": [
    {
     "name": "stdout",
     "output_type": "stream",
     "text": [
      "                                     f_count  total      rate  uni_id_count  \\\n",
      "neighbourhood                                                                 \n",
      "Caulfield, Victoria, Australia          2896   3650  0.793425            10   \n",
      "Pakenham, Victoria, Australia           5160   6570  0.785388            18   \n",
      "Carlton North, Victoria, Australia     16767  21535  0.778593            59   \n",
      "Cremorne, Victoria, Australia           5926   7665  0.773125            21   \n",
      "Bonbeach, Victoria, Australia           3041   4015  0.757410            11   \n",
      "Carnegie, Victoria, Australia           9048  12045  0.751183            33   \n",
      "Box Hill North, Victoria, Australia     4737   6570  0.721005            18   \n",
      "Brighton East, Victoria, Australia      6807   9490  0.717281            26   \n",
      "Northcote, Victoria, Australia         43726  61320  0.713079           168   \n",
      "Windsor, Victoria, Australia           22890  32120  0.712640            88   \n",
      "\n",
      "                                     median_p  \n",
      "neighbourhood                                  \n",
      "Caulfield, Victoria, Australia           87.0  \n",
      "Pakenham, Victoria, Australia            70.0  \n",
      "Carlton North, Victoria, Australia      105.0  \n",
      "Cremorne, Victoria, Australia           110.0  \n",
      "Bonbeach, Victoria, Australia            77.0  \n",
      "Carnegie, Victoria, Australia            55.0  \n",
      "Box Hill North, Victoria, Australia      55.0  \n",
      "Brighton East, Victoria, Australia      120.0  \n",
      "Northcote, Victoria, Australia           99.0  \n",
      "Windsor, Victoria, Australia            120.0  \n",
      "                                         id  total      rate  uni_id_count\n",
      "neighbourhood                                                             \n",
      "Mt Dandenong, Victoria, Australia      4765   5110  0.932485            14\n",
      "Gruyere, Victoria, Australia           3267   4015  0.813699            11\n",
      "Badger Creek, Victoria, Australia      3310   4380  0.755708            12\n",
      "Emerald, Victoria, Australia           7439  10220  0.727886            28\n",
      "Kalorama, Victoria, Australia          2867   4015  0.714072            11\n",
      "Coldstream, Victoria, Australia        3382   4745  0.712750            13\n",
      "Templestowe, Victoria, Australia       3065   4380  0.699772            12\n",
      "Mount Dandenong, Victoria, Australia   5555   8030  0.691781            22\n",
      "Lilydale, Victoria, Australia          4263   6205  0.687027            17\n",
      "Williams Landing, Victoria, Australia  5243   7665  0.684018            21\n"
     ]
    }
   ],
   "source": [
    "# Calculate rental rate by neighbourhood\n",
    "occupy_times = listings_date[['available','neighbourhood','id']].groupby(['neighbourhood','available']).count()\n",
    "reset_occ = occupy_times.reset_index('available')\n",
    "reset_occ['total'] = occupy_times.groupby(['neighbourhood']).sum()\n",
    "reset_occ['rate'] = reset_occ['id']/reset_occ['total']\n",
    "reset_occ['uni_id_count'] = listings_date[['id','neighbourhood']].groupby('neighbourhood').nunique()\n",
    "ava_f = reset_occ[(reset_occ['uni_id_count']>=10) & (reset_occ['available']=='f')].drop('available',axis=1).sort_values(['rate'],ascending=False)\n",
    "ava_t = reset_occ[(reset_occ['uni_id_count']>=10) & (reset_occ['available']=='t')].drop('available',axis=1).sort_values('rate',ascending=False)\n",
    "price = listings_date[['available','neighbourhood','price_y']].groupby(['neighbourhood','available']).median()\n",
    "reset_price = price.reset_index(1)\n",
    "ava_f['median_p'] = reset_price[reset_price['available']=='f'].drop('available',axis=1)\n",
    "ava_f = ava_f.rename(columns = {'id':'f_count'})\n",
    "print(ava_f.head(10))\n",
    "print(ava_t.head(10))\n",
    "\n"
   ]
  },
  {
   "cell_type": "code",
   "execution_count": 17,
   "metadata": {
    "scrolled": false
   },
   "outputs": [
    {
     "name": "stderr",
     "output_type": "stream",
     "text": [
      "C:\\Users\\ilove\\anaconda3\\lib\\site-packages\\pandas\\core\\indexing.py:1745: SettingWithCopyWarning: \n",
      "A value is trying to be set on a copy of a slice from a DataFrame.\n",
      "Try using .loc[row_indexer,col_indexer] = value instead\n",
      "\n",
      "See the caveats in the documentation: https://pandas.pydata.org/pandas-docs/stable/user_guide/indexing.html#returning-a-view-versus-a-copy\n",
      "  isetter(ilocs[0], value)\n",
      "<ipython-input-17-2d8fee6ea05e>:4: SettingWithCopyWarning: \n",
      "A value is trying to be set on a copy of a slice from a DataFrame.\n",
      "Try using .loc[row_indexer,col_indexer] = value instead\n",
      "\n",
      "See the caveats in the documentation: https://pandas.pydata.org/pandas-docs/stable/user_guide/indexing.html#returning-a-view-versus-a-copy\n",
      "  occupy_property['month'] = occupy_property['date'].dt.to_period('M')\n"
     ]
    },
    {
     "data": {
      "text/plain": [
       "array([<AxesSubplot:xlabel='month'>, <AxesSubplot:xlabel='month'>],\n",
       "      dtype=object)"
      ]
     },
     "execution_count": 17,
     "metadata": {},
     "output_type": "execute_result"
    },
    {
     "data": {
      "image/png": "[encoded data removed]",
      "text/plain": [
       "<Figure size 432x288 with 2 Axes>"
      ]
     },
     "metadata": {
      "needs_background": "light"
     },
     "output_type": "display_data"
    }
   ],
   "source": [
    "# Plot the number of available and unavailable properties by month\n",
    "occupy_property = listings_date[['listing_id','property_type','price_y','available','date']]\n",
    "occupy_property.loc[:,'date'] = pd.to_datetime(occupy_property['date'])\n",
    "occupy_property['month'] = occupy_property['date'].dt.to_period('M')\n",
    "occupy_property_filtered = occupy_property[occupy_property['date']<'2021-11-01']\n",
    "occupy_property_filtered = occupy_property_filtered[['listing_id','available','month']].groupby(['available','month']).nunique()\n",
    "occupy_property_filtered.unstack('available').plot.line(subplots=True, title=\"Availability by Month\")"
   ]
  },
  {
   "cell_type": "code",
   "execution_count": 16,
   "metadata": {},
   "outputs": [
    {
     "name": "stdout",
     "output_type": "stream",
     "text": [
      "                           rental_counts  median_price\n",
      "property_type                                         \n",
      "Private room in chalet               181        1000.0\n",
      "Castle                               763         407.0\n",
      "Private room                        1171         385.0\n",
      "Room in nature lodge                1052         323.0\n",
      "Entire villa                       17723         320.0\n",
      "Entire bed and breakfast            4463         300.0\n",
      "Boat                                1335         299.0\n",
      "Entire home/apt                      694         258.0\n",
      "Barn                                 465         250.0\n",
      "Room in bed and breakfast           6036         250.0\n",
      "                           rental_counts  median_price\n",
      "property_type                                         \n",
      "Entire apartment                 1106253         145.0\n",
      "Private room in house             478275          55.0\n",
      "Entire house                      327684         250.0\n",
      "Private room in apartment         221447          70.0\n",
      "Entire serviced apartment          86283         195.0\n",
      "Entire townhouse                   85947         220.0\n",
      "Private room in townhouse          79694          65.0\n",
      "Entire guesthouse                  53828         115.0\n",
      "Entire guest suite                 37764         100.0\n",
      "Entire condominium                 37129         149.0\n"
     ]
    }
   ],
   "source": [
    "# Calculate the total number of rentals and median price by property type\n",
    "occupy_property[occupy_property['available']=='t'].drop('date',axis=1).groupby(['property_type','price_y','month']).count()\n",
    "op_filtered = occupy_property[occupy_property['available']=='t']\n",
    "top10 = op_filtered[['listing_id','property_type']].groupby('property_type').count().sort_values(['listing_id'],ascending=False)\n",
    "top10_col = top10.index\n",
    "ot = op_filtered.set_index('property_type').loc[top10_col,['price_y']]\n",
    "ot_avg_price = ot.reset_index().groupby('property_type').median()\n",
    "result = top10.join(ot_avg_price)\n",
    "result = result.rename(columns={'listing_id':'rental_counts','price_y':'median_price'}).sort_values('median_price',ascending=False)\n",
    "result_count = result.sort_values(['rental_counts'],ascending=False)\n",
    "print(result.head(10))\n",
    "print(result_count.head(10))"
   ]
  },
  {
   "cell_type": "code",
   "execution_count": 8,
   "metadata": {},
   "outputs": [
    {
     "data": {
      "image/png": "[encoded data removed]",
      "text/plain": [
       "<Figure size 432x288 with 3 Axes>"
      ]
     },
     "metadata": {
      "needs_background": "light"
     },
     "output_type": "display_data"
    }
   ],
   "source": [
    "# Plot prices by by month\n",
    "price_trend = calendar_clean[['yr-mth','price','price_diff','adjusted_price']].groupby('yr-mth').mean()\n",
    "fig, axs = plt.subplots(3,sharex='all')\n",
    "axs[0].set_title('Avg Price & Adjusted Price & Price Difference')\n",
    "axs[0].plot(price_trend.index.values,price_trend['price'])\n",
    "axs[1].plot(price_trend.index.values,price_trend['adjusted_price'],'tab:green')\n",
    "axs[2].plot(price_trend.index.values,price_trend['price_diff'],'tab:orange')\n",
    "plt.xticks(fontsize=6)\n",
    "plt.show()"
   ]
  },
  {
   "cell_type": "code",
   "execution_count": 10,
   "metadata": {},
   "outputs": [
    {
     "data": {
      "text/plain": [
       "Index(['id', 'accommodates', 'price_y', 'available'], dtype='object')"
      ]
     },
     "execution_count": 10,
     "metadata": {},
     "output_type": "execute_result"
    }
   ],
   "source": [
    "# Subset listings_date to keep only review scores and accommodates \n",
    "sub_listings = listings_date[['id','accommodates','review_scores_rating', 'review_scores_accuracy', 'review_scores_cleanliness', 'review_scores_checkin',\n",
    "       'review_scores_communication', 'review_scores_location','review_scores_value', 'price_y','available']]\n",
    "sub_listings.columns[sub_listings.notnull().all()]"
   ]
  },
  {
   "cell_type": "code",
   "execution_count": 31,
   "metadata": {},
   "outputs": [
    {
     "data": {
      "text/plain": [
       "id                             0\n",
       "accommodates                   0\n",
       "review_scores_rating           0\n",
       "review_scores_accuracy         0\n",
       "review_scores_cleanliness      0\n",
       "review_scores_checkin          0\n",
       "review_scores_communication    0\n",
       "review_scores_location         0\n",
       "review_scores_value            0\n",
       "price_y                        0\n",
       "available                      0\n",
       "dtype: int64"
      ]
     },
     "execution_count": 31,
     "metadata": {},
     "output_type": "execute_result"
    }
   ],
   "source": [
    "# Examine null values\n",
    "sub_listings.isnull().sum()"
   ]
  },
  {
   "cell_type": "code",
   "execution_count": 11,
   "metadata": {},
   "outputs": [
    {
     "name": "stderr",
     "output_type": "stream",
     "text": [
      "C:\\Users\\ilove\\anaconda3\\lib\\site-packages\\pandas\\core\\frame.py:3065: SettingWithCopyWarning: \n",
      "A value is trying to be set on a copy of a slice from a DataFrame.\n",
      "Try using .loc[row_indexer,col_indexer] = value instead\n",
      "\n",
      "See the caveats in the documentation: https://pandas.pydata.org/pandas-docs/stable/user_guide/indexing.html#returning-a-view-versus-a-copy\n",
      "  self[k1] = value[k2]\n"
     ]
    }
   ],
   "source": [
    "# Replace null values by column median\n",
    "# Replace null values by column mean is an alternative way but the performance is extremely slow when fillna by mean so median is used. \n",
    "sub_listings[['review_scores_rating', 'review_scores_accuracy',\n",
    "       'review_scores_cleanliness', 'review_scores_checkin',\n",
    "       'review_scores_communication', 'review_scores_location',\n",
    "       'review_scores_value']] = sub_listings[['review_scores_rating', 'review_scores_accuracy',\n",
    "       'review_scores_cleanliness', 'review_scores_checkin',\n",
    "       'review_scores_communication', 'review_scores_location',\n",
    "       'review_scores_value']].fillna(sub_listings.median())\n"
   ]
  },
  {
   "cell_type": "code",
   "execution_count": 12,
   "metadata": {},
   "outputs": [],
   "source": [
    "# Prepare to run logistic regression model\n",
    "logreg = linear_model.LogisticRegression()"
   ]
  },
  {
   "cell_type": "code",
   "execution_count": 13,
   "metadata": {},
   "outputs": [],
   "source": [
    "# Create a copy of the dataframe\n",
    "cat_df_copy = sub_listings.copy()\n",
    "# Pull a list of the column names of the categorical variables\n",
    "cat_cols_lst = cat_df_copy[['available']]\n",
    "# Create a function to create dummy variables for variables in object data type\n",
    "def create_dummy_df(table, cat_cols, dummy_na):\n",
    "    for col in  cat_cols:\n",
    "        try:\n",
    "            table = pd.concat([table.drop(col, axis=1), pd.get_dummies(table[col], prefix=col, prefix_sep='_', drop_first=False, dummy_na=dummy_na)], axis=1)\n",
    "        except:\n",
    "            continue\n",
    "    return table"
   ]
  },
  {
   "cell_type": "code",
   "execution_count": 50,
   "metadata": {},
   "outputs": [],
   "source": [
    "# Assign parameters\n",
    "table = cat_df_copy\n",
    "listings_dummy = create_dummy_df(table, cat_cols_lst, False)\n",
    "target = listings_dummy['available_f']\n",
    "vals = listings_dummy.drop(['available_t','id','available_f'],axis=1)\n",
    "vals = vals.columns"
   ]
  },
  {
   "cell_type": "code",
   "execution_count": 15,
   "metadata": {},
   "outputs": [
    {
     "name": "stdout",
     "output_type": "stream",
     "text": [
      "0.5729\n"
     ]
    }
   ],
   "source": [
    "# Create a function to fit logistic regression model and calculate its auc value\n",
    "def auc_fn(variables, target, df):\n",
    "    X = df[variables]\n",
    "    y = df[target]\n",
    "    logreg = linear_model.LogisticRegression()\n",
    "    logreg.fit(X,y.values.ravel())\n",
    "    predictions = logreg.predict_proba(X)[:,1]\n",
    "    auc = roc_auc_score(y,predictions)\n",
    "    return(auc)\n",
    "auc = auc_fn(vals, ['available_f'], listings_dummy)\n",
    "print(round(auc,4))"
   ]
  },
  {
   "cell_type": "code",
   "execution_count": 16,
   "metadata": {},
   "outputs": [],
   "source": [
    "# Create a function to keep important variables by comparing auc values\n",
    "def next_best(current_variable,candidate_variable,target,basetable):\n",
    "    best_auc = -1\n",
    "    best_variable = None\n",
    "    for v in candidate_variable:\n",
    "        auc_v = auc_fn(current_variables + [v],target,basetable)\n",
    "        if auc_v >= best_auc:\n",
    "            best_auc = auc_v\n",
    "            best_variable = v\n",
    "    return best_variable"
   ]
  },
  {
   "cell_type": "code",
   "execution_count": 73,
   "metadata": {},
   "outputs": [
    {
     "name": "stdout",
     "output_type": "stream",
     "text": [
      "0.6\n",
      "0.6\n"
     ]
    }
   ],
   "source": [
    "# Split the model into train and test sets\n",
    "X = listings_dummy.drop(['available_t','id','available_f'],axis=1)\n",
    "y = listings_dummy['available_f']\n",
    "X_train, X_test, y_train,y_test = train_test_split(X,y, test_size=0.3,stratify=y)\n",
    "# Create the final train and test basetables\n",
    "train = pd.concat([X_train, y_train], axis=1)\n",
    "test = pd.concat([X_test, y_test], axis=1)\n",
    "\n",
    "# Check whether train and test have same percentage targets\n",
    "print(round(sum(train['available_f'])/len(train), 2))\n",
    "print(round(sum(test['available_f'])/len(test), 2))"
   ]
  },
  {
   "cell_type": "code",
   "execution_count": 91,
   "metadata": {
    "scrolled": true
   },
   "outputs": [
    {
     "data": {
      "image/png": "[encoded data removed]",
      "text/plain": [
       "<Figure size 432x288 with 1 Axes>"
      ]
     },
     "metadata": {
      "needs_background": "light"
     },
     "output_type": "display_data"
    }
   ],
   "source": [
    "# Store auc values generated from train and test sets\n",
    "train_df = pd.concat([y_train,X_train],axis=1)\n",
    "test_df = pd.concat([y_test,X_test],axis=1)\n",
    "auc_values_train = []\n",
    "auc_values_test = []\n",
    "variables_evaluate = []\n",
    "for v in vals2:\n",
    "# Add the variable\n",
    "    variables_evaluate.append(v)\n",
    "    \n",
    "    # Calculate the train and test AUC of this set of variables\n",
    "    auc_train = auc_fn(variables_evaluate,'available_f', train_df)\n",
    "    auc_test = auc_fn(variables_evaluate, 'available_f', test_df)\n",
    "    # Append the values to the lists\n",
    "    auc_values_train.append(auc_train)\n",
    "    auc_values_test.append(auc_test)\n",
    "\n",
    "# Plot auc curve from train and test sets to find out the cut off point\n",
    "# The model is underfitting so it is not suitable to use in prediction\n",
    "# From the plot, 3 variables should be included in the model\n",
    "x = np.array(range(0,len(auc_values_train)))\n",
    "y_train = np.array(auc_values_train)\n",
    "y_test = np.array(auc_values_test)\n",
    "plt.xticks(x, rotation = 90)\n",
    "plt.plot(x,y_train)\n",
    "plt.plot(x,y_test)\n",
    "plt.ylim((0.56, 0.58))\n",
    "plt.show()"
   ]
  },
  {
   "cell_type": "code",
   "execution_count": 92,
   "metadata": {},
   "outputs": [
    {
     "name": "stdout",
     "output_type": "stream",
     "text": [
      "Variable added in step 1 is price_y.\n",
      "Variable added in step 2 is review_scores_value.\n",
      "Variable added in step 3 is review_scores_cleanliness.\n",
      "['price_y', 'review_scores_value', 'review_scores_cleanliness']\n"
     ]
    }
   ],
   "source": [
    "# Show the top 3 most important variables using for loop and functions created above\n",
    "current_variables = []\n",
    "target = ['available_f']\n",
    "max_number_variables = 3\n",
    "number_iterations = min(max_number_variables, len(vals))\n",
    "for i in range(0,number_iterations):    \n",
    "    next_variable = next_best(current_variables,vals,target,listings_dummy)    \n",
    "    current_variables = current_variables + [next_variable]    \n",
    "    vals = vals.drop(next_variable)\n",
    "    print(\"Variable added in step \" + str(i+1)  + \" is \" + next_variable + \".\")\n",
    "print(current_variables)"
   ]
  },
  {
   "cell_type": "code",
   "execution_count": 93,
   "metadata": {},
   "outputs": [
    {
     "name": "stdout",
     "output_type": "stream",
     "text": [
      "[[-2.04975609e-04  2.21994408e-01 -1.77701089e-01]]\n",
      "[0.00406632]\n",
      "    price_y  review_scores_value  review_scores_cleanliness  intercept\n",
      "0 -0.000205             0.221994                  -0.177701   0.004066\n"
     ]
    }
   ],
   "source": [
    "# Display coefficients and intercept of au3 because it has the highest auc value\n",
    "new_x = listings_dummy[['price_y', 'review_scores_value', 'review_scores_cleanliness']]\n",
    "logreg.fit(new_x,listings_dummy['available_f'])\n",
    "coef = logreg.coef_\n",
    "intercept = logreg.intercept_\n",
    "print(coef)\n",
    "print(intercept)\n",
    "model_df = pd.DataFrame( np.array([[-2.04975609e-04,  2.21994408e-01, -1.77701089e-01,0.00406632]]) ,columns = ['price_y', 'review_scores_value', 'review_scores_cleanliness','intercept'])\n",
    "print(model_df)"
   ]
  }
 ],
 "metadata": {
  "kernelspec": {
   "display_name": "Python 3",
   "language": "python",
   "name": "python3"
  },
  "language_info": {
   "codemirror_mode": {
    "name": "ipython",
    "version": 3
   },
   "file_extension": ".py",
   "mimetype": "text/x-python",
   "name": "python",
   "nbconvert_exporter": "python",
   "pygments_lexer": "ipython3",
   "version": "3.8.5"
  }
 },
 "nbformat": 4,
 "nbformat_minor": 4
}
